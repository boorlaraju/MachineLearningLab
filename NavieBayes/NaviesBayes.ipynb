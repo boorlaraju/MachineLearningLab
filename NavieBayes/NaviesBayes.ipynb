{
 "cells": [
  {
   "cell_type": "code",
   "execution_count": 148,
   "id": "33812e74-7b57-42d8-9142-98fe8cea414e",
   "metadata": {},
   "outputs": [
    {
     "name": "stdout",
     "output_type": "stream",
     "text": [
      "Number of training samples: 11314\n",
      "Categories: ['alt.atheism', 'comp.graphics', 'comp.os.ms-windows.misc', 'comp.sys.ibm.pc.hardware', 'comp.sys.mac.hardware', 'comp.windows.x', 'misc.forsale', 'rec.autos', 'rec.motorcycles', 'rec.sport.baseball', 'rec.sport.hockey', 'sci.crypt', 'sci.electronics', 'sci.med', 'sci.space', 'soc.religion.christian', 'talk.politics.guns', 'talk.politics.mideast', 'talk.politics.misc', 'talk.religion.misc']\n"
     ]
    }
   ],
   "source": [
    "from sklearn.datasets import fetch_20newsgroups\n",
    "\n",
    "# Load the training data\n",
    "#cat = ['alt.atheism', 'sci.space', 'comp.graphics']\n",
    "train = fetch_20newsgroups(subset='train', shuffle=True)\n",
    "#newsgroups_test = fetch_20newsgroups(subset='test', shuffle=True)\n",
    "\n",
    "# Display basic information\n",
    "print(\"Number of training samples:\", len(train.data))\n",
    "#print(\"Number of test samples:\", len(newsgroups_test.data))\n",
    "print(\"Categories:\", train.target_names)\n"
   ]
  },
  {
   "cell_type": "code",
   "execution_count": 149,
   "id": "9e7e4e12-89d8-40cf-94ee-21b78a48ec06",
   "metadata": {},
   "outputs": [
    {
     "data": {
      "text/plain": [
       "\"From: lerxst@wam.umd.edu (where's my thing)\\nSubject: WHAT car is this!?\\nNntp-Posting-Host: rac3.wam.umd.edu\\nOrganization: University of Maryland, College Park\\nLines: 15\\n\\n I was wondering if anyone out there could enlighten me on this car I saw\\nthe other day. It was a 2-door sports car, looked to be from the late 60s/\\nearly 70s. It was called a Bricklin. The doors were really small. In addition,\\nthe front bumper was separate from the rest of the body. This is \\nall I know. If anyone can tellme a model name, engine specs, years\\nof production, where this car is made, history, or whatever info you\\nhave on this funky looking car, please e-mail.\\n\\nThanks,\\n- IL\\n   ---- brought to you by your neighborhood Lerxst ----\\n\\n\\n\\n\\n\""
      ]
     },
     "execution_count": 149,
     "metadata": {},
     "output_type": "execute_result"
    }
   ],
   "source": [
    "train.data[0]"
   ]
  },
  {
   "cell_type": "code",
   "execution_count": 150,
   "id": "cd323398-0202-4987-ac10-e2e910d1eb10",
   "metadata": {},
   "outputs": [
    {
     "data": {
      "text/plain": [
       "['alt.atheism',\n",
       " 'comp.graphics',\n",
       " 'comp.os.ms-windows.misc',\n",
       " 'comp.sys.ibm.pc.hardware',\n",
       " 'comp.sys.mac.hardware',\n",
       " 'comp.windows.x',\n",
       " 'misc.forsale',\n",
       " 'rec.autos',\n",
       " 'rec.motorcycles',\n",
       " 'rec.sport.baseball',\n",
       " 'rec.sport.hockey',\n",
       " 'sci.crypt',\n",
       " 'sci.electronics',\n",
       " 'sci.med',\n",
       " 'sci.space',\n",
       " 'soc.religion.christian',\n",
       " 'talk.politics.guns',\n",
       " 'talk.politics.mideast',\n",
       " 'talk.politics.misc',\n",
       " 'talk.religion.misc']"
      ]
     },
     "execution_count": 150,
     "metadata": {},
     "output_type": "execute_result"
    }
   ],
   "source": [
    "newsgroups_train.target_names"
   ]
  },
  {
   "cell_type": "code",
   "execution_count": 151,
   "id": "382c46b8-4a4c-42c9-a54d-fad876cc9870",
   "metadata": {},
   "outputs": [],
   "source": [
    "y = newsgroups_train.target"
   ]
  },
  {
   "cell_type": "code",
   "execution_count": 152,
   "id": "7cab3be8-4c3c-41f2-9790-835159002ae7",
   "metadata": {},
   "outputs": [
    {
     "data": {
      "text/plain": [
       "(11314,)"
      ]
     },
     "execution_count": 152,
     "metadata": {},
     "output_type": "execute_result"
    }
   ],
   "source": [
    "y.shape"
   ]
  },
  {
   "cell_type": "code",
   "execution_count": 153,
   "id": "b365dcf0-a00b-4ba8-8721-5015ec477d04",
   "metadata": {},
   "outputs": [
    {
     "name": "stdout",
     "output_type": "stream",
     "text": [
      "[7 4 4 ... 3 1 8]\n"
     ]
    }
   ],
   "source": [
    "print(y)"
   ]
  },
  {
   "cell_type": "code",
   "execution_count": 154,
   "id": "00c0b531-17a0-4b63-a1a2-0fe164d476d1",
   "metadata": {},
   "outputs": [],
   "source": [
    "from sklearn.feature_extraction.text import CountVectorizer\n",
    "vectorizer = CountVectorizer(max_features=1000)\n",
    "X = vectorizer.fit_transform(train.data)\n"
   ]
  },
  {
   "cell_type": "code",
   "execution_count": 155,
   "id": "169b04c7-e39b-432a-9555-f08c6953f20c",
   "metadata": {},
   "outputs": [],
   "source": [
    "X = X.toarray()"
   ]
  },
  {
   "cell_type": "code",
   "execution_count": 156,
   "id": "16919ae1-63f2-41ce-9f63-bb6b617c6cb3",
   "metadata": {},
   "outputs": [
    {
     "data": {
      "text/plain": [
       "(11314, 1000)"
      ]
     },
     "execution_count": 156,
     "metadata": {},
     "output_type": "execute_result"
    }
   ],
   "source": [
    "X.shape"
   ]
  },
  {
   "cell_type": "code",
   "execution_count": 157,
   "id": "3eb386b5-91a8-4c42-9227-de804d5e5c58",
   "metadata": {},
   "outputs": [],
   "source": [
    "from sklearn.model_selection import train_test_split\n",
    "X_train, X_test, y_train, y_test = train_test_split(X, y , test_size=0.3)"
   ]
  },
  {
   "cell_type": "code",
   "execution_count": 158,
   "id": "532882ec-cbf3-4f2d-8c45-03edec4ac463",
   "metadata": {},
   "outputs": [],
   "source": [
    "from sklearn.naive_bayes import MultinomialNB               #MultinomialNB #GaussianNB #BernoulliNB"
   ]
  },
  {
   "cell_type": "code",
   "execution_count": 159,
   "id": "0c1248e9-281c-4fd2-8157-699854a87619",
   "metadata": {},
   "outputs": [
    {
     "data": {
      "text/html": [
       "<style>#sk-container-id-7 {color: black;background-color: white;}#sk-container-id-7 pre{padding: 0;}#sk-container-id-7 div.sk-toggleable {background-color: white;}#sk-container-id-7 label.sk-toggleable__label {cursor: pointer;display: block;width: 100%;margin-bottom: 0;padding: 0.3em;box-sizing: border-box;text-align: center;}#sk-container-id-7 label.sk-toggleable__label-arrow:before {content: \"▸\";float: left;margin-right: 0.25em;color: #696969;}#sk-container-id-7 label.sk-toggleable__label-arrow:hover:before {color: black;}#sk-container-id-7 div.sk-estimator:hover label.sk-toggleable__label-arrow:before {color: black;}#sk-container-id-7 div.sk-toggleable__content {max-height: 0;max-width: 0;overflow: hidden;text-align: left;background-color: #f0f8ff;}#sk-container-id-7 div.sk-toggleable__content pre {margin: 0.2em;color: black;border-radius: 0.25em;background-color: #f0f8ff;}#sk-container-id-7 input.sk-toggleable__control:checked~div.sk-toggleable__content {max-height: 200px;max-width: 100%;overflow: auto;}#sk-container-id-7 input.sk-toggleable__control:checked~label.sk-toggleable__label-arrow:before {content: \"▾\";}#sk-container-id-7 div.sk-estimator input.sk-toggleable__control:checked~label.sk-toggleable__label {background-color: #d4ebff;}#sk-container-id-7 div.sk-label input.sk-toggleable__control:checked~label.sk-toggleable__label {background-color: #d4ebff;}#sk-container-id-7 input.sk-hidden--visually {border: 0;clip: rect(1px 1px 1px 1px);clip: rect(1px, 1px, 1px, 1px);height: 1px;margin: -1px;overflow: hidden;padding: 0;position: absolute;width: 1px;}#sk-container-id-7 div.sk-estimator {font-family: monospace;background-color: #f0f8ff;border: 1px dotted black;border-radius: 0.25em;box-sizing: border-box;margin-bottom: 0.5em;}#sk-container-id-7 div.sk-estimator:hover {background-color: #d4ebff;}#sk-container-id-7 div.sk-parallel-item::after {content: \"\";width: 100%;border-bottom: 1px solid gray;flex-grow: 1;}#sk-container-id-7 div.sk-label:hover label.sk-toggleable__label {background-color: #d4ebff;}#sk-container-id-7 div.sk-serial::before {content: \"\";position: absolute;border-left: 1px solid gray;box-sizing: border-box;top: 0;bottom: 0;left: 50%;z-index: 0;}#sk-container-id-7 div.sk-serial {display: flex;flex-direction: column;align-items: center;background-color: white;padding-right: 0.2em;padding-left: 0.2em;position: relative;}#sk-container-id-7 div.sk-item {position: relative;z-index: 1;}#sk-container-id-7 div.sk-parallel {display: flex;align-items: stretch;justify-content: center;background-color: white;position: relative;}#sk-container-id-7 div.sk-item::before, #sk-container-id-7 div.sk-parallel-item::before {content: \"\";position: absolute;border-left: 1px solid gray;box-sizing: border-box;top: 0;bottom: 0;left: 50%;z-index: -1;}#sk-container-id-7 div.sk-parallel-item {display: flex;flex-direction: column;z-index: 1;position: relative;background-color: white;}#sk-container-id-7 div.sk-parallel-item:first-child::after {align-self: flex-end;width: 50%;}#sk-container-id-7 div.sk-parallel-item:last-child::after {align-self: flex-start;width: 50%;}#sk-container-id-7 div.sk-parallel-item:only-child::after {width: 0;}#sk-container-id-7 div.sk-dashed-wrapped {border: 1px dashed gray;margin: 0 0.4em 0.5em 0.4em;box-sizing: border-box;padding-bottom: 0.4em;background-color: white;}#sk-container-id-7 div.sk-label label {font-family: monospace;font-weight: bold;display: inline-block;line-height: 1.2em;}#sk-container-id-7 div.sk-label-container {text-align: center;}#sk-container-id-7 div.sk-container {/* jupyter's `normalize.less` sets `[hidden] { display: none; }` but bootstrap.min.css set `[hidden] { display: none !important; }` so we also need the `!important` here to be able to override the default hidden behavior on the sphinx rendered scikit-learn.org. See: https://github.com/scikit-learn/scikit-learn/issues/21755 */display: inline-block !important;position: relative;}#sk-container-id-7 div.sk-text-repr-fallback {display: none;}</style><div id=\"sk-container-id-7\" class=\"sk-top-container\"><div class=\"sk-text-repr-fallback\"><pre>MultinomialNB()</pre><b>In a Jupyter environment, please rerun this cell to show the HTML representation or trust the notebook. <br />On GitHub, the HTML representation is unable to render, please try loading this page with nbviewer.org.</b></div><div class=\"sk-container\" hidden><div class=\"sk-item\"><div class=\"sk-estimator sk-toggleable\"><input class=\"sk-toggleable__control sk-hidden--visually\" id=\"sk-estimator-id-7\" type=\"checkbox\" checked><label for=\"sk-estimator-id-7\" class=\"sk-toggleable__label sk-toggleable__label-arrow\">MultinomialNB</label><div class=\"sk-toggleable__content\"><pre>MultinomialNB()</pre></div></div></div></div></div>"
      ],
      "text/plain": [
       "MultinomialNB()"
      ]
     },
     "execution_count": 159,
     "metadata": {},
     "output_type": "execute_result"
    }
   ],
   "source": [
    "model = MultinomialNB()\n",
    "model.fit(X_train, y_train)"
   ]
  },
  {
   "cell_type": "code",
   "execution_count": 160,
   "id": "e02bc392-1de0-4648-8a83-448eba763240",
   "metadata": {},
   "outputs": [],
   "source": [
    "y_pred = model.predict(X_test)"
   ]
  },
  {
   "cell_type": "code",
   "execution_count": 161,
   "id": "5320a84c-05b4-45d6-8883-dd035073403f",
   "metadata": {},
   "outputs": [
    {
     "data": {
      "text/plain": [
       "array([19, 12,  1, ...,  4,  9,  4])"
      ]
     },
     "execution_count": 161,
     "metadata": {},
     "output_type": "execute_result"
    }
   ],
   "source": [
    "y_pred"
   ]
  },
  {
   "cell_type": "code",
   "execution_count": 162,
   "id": "2d75606b-a815-46de-9627-4741a5836af4",
   "metadata": {},
   "outputs": [],
   "source": [
    "from sklearn.metrics import accuracy_score, confusion_matrix , classification_report"
   ]
  },
  {
   "cell_type": "code",
   "execution_count": 163,
   "id": "9d3eadc3-4e62-4ac5-9ef2-161a0a4144c4",
   "metadata": {},
   "outputs": [
    {
     "data": {
      "text/plain": [
       "0.6762886597938145"
      ]
     },
     "execution_count": 163,
     "metadata": {},
     "output_type": "execute_result"
    }
   ],
   "source": [
    "accuracy = accuracy_score(y_pred, y_test)\n",
    "accuracy"
   ]
  },
  {
   "cell_type": "code",
   "execution_count": 164,
   "id": "8bbf1353-6ccb-442b-b0d4-1257e7d0a2db",
   "metadata": {},
   "outputs": [],
   "source": [
    "cm = confusion_matrix(y_pred, y_test)"
   ]
  },
  {
   "cell_type": "code",
   "execution_count": 165,
   "id": "438c80b1-e78e-4998-9728-2263671d0d74",
   "metadata": {},
   "outputs": [
    {
     "name": "stdout",
     "output_type": "stream",
     "text": [
      "[[109   1   0   0   0   1   0   0   0   0   0   2   0   2   5   5   1   3\n",
      "    6  20]\n",
      " [  0 109  49   8  11  21   2   2   0   2   0   1  11   5   3   4   0   0\n",
      "    0   0]\n",
      " [  0   0   4   0   0   0   0   0   0   0   0   0   0   0   0   0   1   0\n",
      "    0   0]\n",
      " [  0  15  63 105  24   6   4   1   0   1   0   2  11   0   0   2   1   3\n",
      "    0   0]\n",
      " [  0   8  17  32 102   5   4   2   3   1   0   0  14   1   2   2   1   0\n",
      "    1   3]\n",
      " [  0   4  26   1   2 119   1   2   1   0   0   5   2   1   1   0   0   0\n",
      "    0   0]\n",
      " [  1   5  10   8   9   6 152   3   8   6   5   1  10   4   3   1   6   6\n",
      "    4   4]\n",
      " [  2   2   3   2   5   0   8 127  11   4   0   3   8   5   3   2   4   3\n",
      "    2   0]\n",
      " [  6   7   2   1   3   1   4  21 147   0   6   3   4   6   5   4   4   3\n",
      "   12   7]\n",
      " [  0   0   0   0   0   0   2   2   0 145  38   0   0   5   1   0   2   3\n",
      "    3   0]\n",
      " [  2   1   0   0   0   0   1   1   0   2 107   0   1   0   0   0   0   0\n",
      "    1   1]\n",
      " [  0   0   2   1   0   2   1   1   0   0   0 146   1   0   0   0   2   3\n",
      "    2   1]\n",
      " [  0   9   7  14  11   5   4   3   0   3   1   4 118  14  12   0   3   2\n",
      "    1   3]\n",
      " [  4   4   0   2   1   1   0   2   2   1   1   2   2 126   5   5   3   5\n",
      "    1   2]\n",
      " [  3   6   0   1   0   4   2   1   6   1   1   2   4   6 116   1   2   2\n",
      "    5   2]\n",
      " [  2   0   0   0   0   0   0   0   0   0   0   0   0   2   0 149   0   2\n",
      "    3  14]\n",
      " [  0   0   0   0   0   0   0   1   2   0   0   3   0   1   1   1 126   3\n",
      "   10   9]\n",
      " [  1   0   0   0   1   0   1   1   0   0   0   0   0   1   0   4   2 151\n",
      "    1   3]\n",
      " [  0   0   0   0   0   0   0   0   2   0   2   2   0   1   4   1   9   7\n",
      "   82   0]\n",
      " [  6   0   0   0   0   0   0   1   0   0   4   0   0   1   1   5   2   2\n",
      "    3  56]]\n"
     ]
    }
   ],
   "source": [
    "print(cm)"
   ]
  },
  {
   "cell_type": "code",
   "execution_count": 166,
   "id": "849a415e-2e8e-4281-9ae2-d8137d8abcca",
   "metadata": {},
   "outputs": [],
   "source": [
    "report = classification_report(y_pred, y_test)"
   ]
  },
  {
   "cell_type": "code",
   "execution_count": 167,
   "id": "d7b74834-4a02-41dc-b3c0-c41c3b3c18ef",
   "metadata": {},
   "outputs": [
    {
     "name": "stdout",
     "output_type": "stream",
     "text": [
      "              precision    recall  f1-score   support\n",
      "\n",
      "           0       0.80      0.70      0.75       155\n",
      "           1       0.64      0.48      0.55       228\n",
      "           2       0.02      0.80      0.04         5\n",
      "           3       0.60      0.44      0.51       238\n",
      "           4       0.60      0.52      0.56       198\n",
      "           5       0.70      0.72      0.71       165\n",
      "           6       0.82      0.60      0.69       252\n",
      "           7       0.74      0.65      0.70       194\n",
      "           8       0.81      0.60      0.69       246\n",
      "           9       0.87      0.72      0.79       201\n",
      "          10       0.65      0.91      0.76       117\n",
      "          11       0.83      0.90      0.86       162\n",
      "          12       0.63      0.55      0.59       214\n",
      "          13       0.70      0.75      0.72       169\n",
      "          14       0.72      0.70      0.71       165\n",
      "          15       0.80      0.87      0.83       172\n",
      "          16       0.75      0.80      0.77       157\n",
      "          17       0.76      0.91      0.83       166\n",
      "          18       0.60      0.75      0.66       110\n",
      "          19       0.45      0.69      0.54        81\n",
      "\n",
      "    accuracy                           0.68      3395\n",
      "   macro avg       0.67      0.70      0.66      3395\n",
      "weighted avg       0.72      0.68      0.69      3395\n",
      "\n"
     ]
    }
   ],
   "source": [
    "print(report)"
   ]
  },
  {
   "cell_type": "code",
   "execution_count": 168,
   "id": "ffe49e52-975d-4bfd-8db7-fbe18b7d005b",
   "metadata": {},
   "outputs": [
    {
     "data": {
      "text/plain": [
       "19"
      ]
     },
     "execution_count": 168,
     "metadata": {},
     "output_type": "execute_result"
    }
   ],
   "source": [
    "y_pred[0]"
   ]
  },
  {
   "cell_type": "code",
   "execution_count": 169,
   "id": "6af287ab-8b48-408c-bdff-3e25092a8b26",
   "metadata": {},
   "outputs": [
    {
     "data": {
      "text/plain": [
       "19"
      ]
     },
     "execution_count": 169,
     "metadata": {},
     "output_type": "execute_result"
    }
   ],
   "source": [
    "y_test[0]"
   ]
  },
  {
   "cell_type": "code",
   "execution_count": null,
   "id": "f6bc68c7-198e-480a-a9b0-4e146383d96d",
   "metadata": {},
   "outputs": [],
   "source": []
  }
 ],
 "metadata": {
  "kernelspec": {
   "display_name": "Python 3 (ipykernel)",
   "language": "python",
   "name": "python3"
  },
  "language_info": {
   "codemirror_mode": {
    "name": "ipython",
    "version": 3
   },
   "file_extension": ".py",
   "mimetype": "text/x-python",
   "name": "python",
   "nbconvert_exporter": "python",
   "pygments_lexer": "ipython3",
   "version": "3.11.7"
  }
 },
 "nbformat": 4,
 "nbformat_minor": 5
}
